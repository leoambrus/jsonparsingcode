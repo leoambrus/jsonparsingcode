import os
import json
import numpy as np
from sklearn.feature_extraction.text import TfidfVectorizer
from sklearn.cluster import KMeans

# Defina o caminho para a pasta com os JSONs
pasta_jsons = "C:\\Users\\user\\Desktop\\sadoc python\\arq-reunidos"

def extrair_texto_json(arquivo):
    with open(arquivo, 'r', encoding='utf-8') as file:
        data = json.load(file)
        texto = ""

        campos = ['name', 'description', 'html_url']

        if isinstance(data, list):
            for item in data:
                for campo in campos:
                    valor = item.get(campo)
                    if valor is not None and isinstance(valor, str):
                        texto += valor + " "
        elif isinstance(data, dict):
            for campo in campos:
                valor = data.get(campo)
                if valor is not None and isinstance(valor, str):
                    texto += valor + " "

        return texto.strip()  # Remova espaços em branco adicionais

# Listar todos os arquivos JSON na pasta
arquivos_json = [os.path.join(pasta_jsons, arquivo) for arquivo in os.listdir(pasta_jsons) if arquivo.endswith('.json')]

# Extrair texto dos JSONs
documentos = [extrair_texto_json(arquivo) for arquivo in arquivos_json]

# Criar uma representação TF-IDF dos documentos
vectorizer = TfidfVectorizer()
X = vectorizer.fit_transform(documentos)

# Clusterização com K-Means
k = 10  # Defina o número de clusters desejado
kmeans = KMeans(n_clusters=k)
kmeans.fit(X)

# Rótulos dos clusters
rotulos_clusters = kmeans.labels_

# Exiba os rótulos dos clusters
for i in range(k):
    print(f"Documentos no cluster {i}:")
    for j, arquivo in enumerate(arquivos_json):
        if rotulos_clusters[j] == i:
            print(f"- {arquivo}")


